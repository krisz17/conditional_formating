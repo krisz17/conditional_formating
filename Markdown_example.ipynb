{
 "cells": [
  {
   "cell_type": "code",
   "execution_count": null,
   "id": "07393009-5bcc-4169-9878-af175599e673",
   "metadata": {},
   "outputs": [],
   "source": [
    "# Nagłówek 1\n",
    "\n",
    "lub\n",
    "\n",
    "Nagłówek 1 bis\n",
    "===\n",
    "\n",
    "## Nagłówek 2\n",
    "\n",
    "lub \n",
    "\n",
    "Nagłówek 2 bis\n",
    "---\n",
    "\n",
    "### Nagłówek 3 \n",
    "#### Nagłówek 4"
   ]
  },
  {
   "cell_type": "markdown",
   "id": "90cfaa7c-9d12-4202-8f12-821c3a94ecb9",
   "metadata": {},
   "source": [
    "# Nagłówek 1\n",
    "\n",
    "lub\n",
    "\n",
    "Nagłówek 1 bis\n",
    "===\n",
    "\n",
    "## Nagłówek 2\n",
    "\n",
    "lub \n",
    "\n",
    "Nagłówek 2 bis\n",
    "---\n",
    "\n",
    "### Nagłówek 3 \n",
    "#### Nagłówek 4"
   ]
  },
  {
   "cell_type": "markdown",
   "id": "d9f83eb6-dfa4-46ed-a11a-831bb689cc11",
   "metadata": {},
   "source": [
    "***"
   ]
  },
  {
   "cell_type": "code",
   "execution_count": null,
   "id": "c4931731-5166-4d68-9e2b-d98be4b7c211",
   "metadata": {},
   "outputs": [],
   "source": [
    "_kursywa 1_\n",
    "*kursywa 2*  \n",
    "<u> podkreślenie </u>"
   ]
  },
  {
   "cell_type": "markdown",
   "id": "273d4fca-92bf-4d78-886f-d412debef609",
   "metadata": {},
   "source": [
    "_kursywa 1_  \n",
    "*kursywa 2*  \n",
    "<u> podkreślenie </u>"
   ]
  },
  {
   "cell_type": "markdown",
   "id": "a9ffa7ed-59d6-4e14-a39a-f5a94b7fe30b",
   "metadata": {},
   "source": [
    "***"
   ]
  },
  {
   "cell_type": "code",
   "execution_count": null,
   "id": "d99a53d2-4e1b-43ce-88ab-d9fe14bb1180",
   "metadata": {},
   "outputs": [],
   "source": [
    " \\*Symbol gwiazdki (lub inne symbole specjalne)\\*"
   ]
  },
  {
   "cell_type": "markdown",
   "id": "432bb403-3ce5-4739-afc1-0c37169c8807",
   "metadata": {},
   "source": [
    " \\*Symbol gwiazdki (lub inne symbole specjalne)\\*"
   ]
  },
  {
   "cell_type": "markdown",
   "id": "c4d41c8d-31ae-4ced-942e-b9fa262aba33",
   "metadata": {},
   "source": [
    "---"
   ]
  },
  {
   "cell_type": "code",
   "execution_count": null,
   "id": "df24a397-b159-4cdc-8b88-85a205be6f56",
   "metadata": {},
   "outputs": [],
   "source": [
    "__pogrubienie 1__  \n",
    "**ogrubienie 2**"
   ]
  },
  {
   "cell_type": "markdown",
   "id": "c27dae6a-924d-400d-9a2c-cd88d84f04c8",
   "metadata": {},
   "source": [
    "__pogrubienie 1__  \n",
    "**ogrubienie 2**"
   ]
  },
  {
   "cell_type": "markdown",
   "id": "62344a49-62c4-4fc7-b275-90231c1f9058",
   "metadata": {},
   "source": [
    "***"
   ]
  },
  {
   "cell_type": "code",
   "execution_count": null,
   "id": "ab3409a7-5432-4687-9dad-2b566706d4f5",
   "metadata": {},
   "outputs": [],
   "source": [
    "~~przekreślenie~~\n",
    "<font color='maroon'>Inny kolor tekstu </font>\n",
    "\n",
    "Lista nazw kolorów\n",
    "https://redketchup.io/color-picker"
   ]
  },
  {
   "cell_type": "markdown",
   "id": "c8604f18-b571-4a6d-afc4-0e4a787f8638",
   "metadata": {},
   "source": [
    "~~przekreślenie~~  \n",
    "<font color='maroon'>Inny kolor tekstu </font>"
   ]
  },
  {
   "cell_type": "markdown",
   "id": "69e18469-ca03-4e8a-82d5-b9ea1bca3d28",
   "metadata": {},
   "source": [
    "***"
   ]
  },
  {
   "cell_type": "code",
   "execution_count": null,
   "id": "61b30138-0bb0-422d-9278-cb072becf3fa",
   "metadata": {},
   "outputs": [],
   "source": [
    "1. Pierwsza kolumna\n",
    "   1. Druga kolimna\n",
    "   2. kontynuacja drugiej\n",
    "2. znowu pierwsza kolumna"
   ]
  },
  {
   "cell_type": "markdown",
   "id": "572a4ce0-dc16-4074-9102-6e7a27460eca",
   "metadata": {},
   "source": [
    "1. Pierwsza kolumna\n",
    "   1. Druga kolimna\n",
    "   2. kontynuacja drugiej\n",
    "2. znowu pierwsza kolumna"
   ]
  },
  {
   "cell_type": "markdown",
   "id": "537e7219-2927-4fcb-ad66-4afdcfb5b65c",
   "metadata": {},
   "source": [
    "***"
   ]
  },
  {
   "cell_type": "code",
   "execution_count": null,
   "id": "e22daa26-09e6-4ffa-b438-6b9ca3fdcd12",
   "metadata": {},
   "outputs": [],
   "source": [
    "* Element 1  \n",
    " Wcięcie\n",
    "- Element 2  \n",
    "  + Element 3 głębiej i kwadracik"
   ]
  },
  {
   "cell_type": "markdown",
   "id": "27027f69-44e4-46d0-b46b-927df559da1b",
   "metadata": {},
   "source": [
    "* Element 1  \n",
    " Wcięcie\n",
    "- Element 2\n",
    "  + Element 3 głębiej i kwadracik"
   ]
  },
  {
   "cell_type": "markdown",
   "id": "33bc7fd7-d865-40b6-b811-9ea6e797cfd5",
   "metadata": {},
   "source": [
    "***"
   ]
  },
  {
   "cell_type": "code",
   "execution_count": null,
   "id": "926a3aec-3f8a-4677-b4ba-31a449ddeb8b",
   "metadata": {},
   "outputs": [],
   "source": [
    "- [x] Zrobione  \n",
    "- [ ] Nie zrobione"
   ]
  },
  {
   "cell_type": "markdown",
   "id": "404d258a-920b-4e6f-8e13-b6f8b7df0e58",
   "metadata": {},
   "source": [
    "- [x] Zrobione  \n",
    "- [ ] Nie zrobione"
   ]
  },
  {
   "cell_type": "markdown",
   "id": "e8036eec-c753-48d0-9bce-8558ab7b5faa",
   "metadata": {},
   "source": [
    "***"
   ]
  },
  {
   "cell_type": "code",
   "execution_count": null,
   "id": "2316957b-3846-4a8d-8e0f-54ffe10d0fd6",
   "metadata": {},
   "outputs": [],
   "source": [
    "Nowa linia{ }{ }\n",
    "jest po dwóch{ }{ }\n",
    "spacjach{ }\n",
    "a nie po jednej"
   ]
  },
  {
   "cell_type": "markdown",
   "id": "ed65fdea-2e01-476c-9154-6a75ed629b4d",
   "metadata": {},
   "source": [
    "Nowa linia  \n",
    "jest po dwóch  \n",
    "spacjach \n",
    "a nie po jednej"
   ]
  },
  {
   "cell_type": "markdown",
   "id": "71488e68-eb7c-4321-bb42-8083e354d902",
   "metadata": {},
   "source": [
    "***"
   ]
  },
  {
   "cell_type": "code",
   "execution_count": null,
   "id": "c8490dd9-d7f2-4e75-9c96-3726d08d7268",
   "metadata": {},
   "outputs": [],
   "source": [
    "Pozioma linia rozdzielająca:\n",
    "\n",
    "***\n",
    "lub \n",
    "---"
   ]
  },
  {
   "cell_type": "markdown",
   "id": "f63f9781-8764-4250-bebd-f8b085b530c2",
   "metadata": {},
   "source": [
    "***\n",
    "---"
   ]
  },
  {
   "cell_type": "code",
   "execution_count": null,
   "id": "166909a1-0e80-4224-9c9a-5882c05a41ee",
   "metadata": {
    "tags": []
   },
   "outputs": [],
   "source": [
    "Jeżeli chcemy stworzyć odwołanie do tego miejsca w finałowym kodzie (wywołanie tej komórki spowoduje \"zniknięcie\" poniższej linii)\n",
    "<a id=\"odwołanie\"></a>"
   ]
  },
  {
   "cell_type": "code",
   "execution_count": null,
   "id": "8bac3ee5-e9bd-4396-ad8c-8d723410b137",
   "metadata": {},
   "outputs": [],
   "source": [
    "Tutaj kod\n",
    "(...)"
   ]
  },
  {
   "cell_type": "code",
   "execution_count": null,
   "id": "d3a39767-a8bb-4d1a-8dfa-6651b19e617f",
   "metadata": {},
   "outputs": [],
   "source": [
    "[Link do miejsca odwołania](#\"odwołanie\")"
   ]
  },
  {
   "cell_type": "markdown",
   "id": "244b1a00-7ef3-4c4e-bffd-e8b41a9ec983",
   "metadata": {},
   "source": [
    "[Link do miejsca odwołania](#\"odwołanie\")"
   ]
  },
  {
   "cell_type": "code",
   "execution_count": null,
   "id": "c92b1bef-be26-4aae-87af-3980f1034d83",
   "metadata": {},
   "outputs": [],
   "source": [
    "# można również odwołać się do istniejących nagłówków, np. \n",
    "[Odwołanie do nagłówka 2](## Nagłówek 2)"
   ]
  },
  {
   "cell_type": "markdown",
   "id": "d358fee0-e7e4-40db-9da5-ccf9317e67c9",
   "metadata": {},
   "source": [
    "***"
   ]
  },
  {
   "cell_type": "code",
   "execution_count": null,
   "id": "5dd4fd24-8f06-4c38-89c1-6ef1fcca3641",
   "metadata": {},
   "outputs": [],
   "source": [
    "Hiperlinki do zewnętrznych stron:\n",
    "\n",
    "https://openai.com/\n",
    "\n",
    "[Nazwa linku](https://openai.com/ \"opcjonalna nazwa\")\n",
    " \n",
    "Click [here][id]\n",
    "[id]:https://openai.com/"
   ]
  },
  {
   "cell_type": "markdown",
   "id": "626b9517-8536-4632-9794-221ad94e710e",
   "metadata": {},
   "source": [
    "[Link do openAI](https://openai.com/ \"Link do openAI\")"
   ]
  },
  {
   "cell_type": "markdown",
   "id": "e42cef35-5f6f-41d0-9f92-084f43c8fbd7",
   "metadata": {},
   "source": [
    "---"
   ]
  },
  {
   "cell_type": "code",
   "execution_count": null,
   "id": "5dd9645f-fa0e-45e1-8218-a9983dafa27c",
   "metadata": {},
   "outputs": [],
   "source": [
    ">tekst blokowy"
   ]
  },
  {
   "cell_type": "markdown",
   "id": "bd121803-6d0f-430b-a50b-182597ef133e",
   "metadata": {},
   "source": [
    ">tekst blokowy"
   ]
  },
  {
   "cell_type": "markdown",
   "id": "8e0b8f2e-ff71-4434-8bc8-6dc8f91cff77",
   "metadata": {},
   "source": [
    "***"
   ]
  },
  {
   "cell_type": "code",
   "execution_count": null,
   "id": "44d485f5-06d5-4fe9-b360-aead4cd0df62",
   "metadata": {},
   "outputs": [],
   "source": [
    "TABELKA\n",
    "|Left |Center|Right|\n",
    "|:-----|:----:|----:|\n",
    "|1 |A |C |\n",
    "|2 |B |D "
   ]
  },
  {
   "cell_type": "markdown",
   "id": "5bc28463-630a-4480-bc55-b6d7b6e7c5d0",
   "metadata": {},
   "source": [
    "|Left |Center|Right|\n",
    "|:-----|:----:|----:|\n",
    "|1 |A |C |\n",
    "|2 |B |D "
   ]
  },
  {
   "cell_type": "code",
   "execution_count": null,
   "id": "e6b29d49-3831-4b82-b4b3-fe6280295411",
   "metadata": {},
   "outputs": [],
   "source": [
    "Gdybyśmy jednak chcieli wyrównać do prawej \n",
    "lub wycentrować tekst to korzystamy z notacji CSS:\n",
    "<p style='text-align: right'> Tekst do prawej </p>\n",
    "<center> Tekst wycentrowany </center>\n",
    "<mark>Podkreślić tekst</mark>"
   ]
  },
  {
   "cell_type": "markdown",
   "id": "67a64673-1724-43b8-b532-7871b322e424",
   "metadata": {},
   "source": [
    "<p style='text-align: right'> Tekst do prawej </p>\n",
    "<center> Tekst wycentrowany </center>\n",
    "<mark>Podkreślić tekst</mark>"
   ]
  },
  {
   "cell_type": "markdown",
   "id": "0f8d89c7-a867-4959-b642-0b936d3897f9",
   "metadata": {},
   "source": [
    "***"
   ]
  },
  {
   "cell_type": "code",
   "execution_count": null,
   "id": "15e4a694-6a4e-4805-9f04-7ec9a174aca3",
   "metadata": {},
   "outputs": [],
   "source": [
    "Zmiana koloru tła, tytuł, centralna pozycja:\n",
    "\n",
    "#### <div style = 'background-color:skyblue'> <center>   \n",
    "TEXT WITH BACKGROUND COLOR </div>"
   ]
  },
  {
   "cell_type": "markdown",
   "id": "7996fc16-9784-40c2-a23a-17d23eae4eb3",
   "metadata": {},
   "source": [
    "#### <div style = 'background-color:skyblue'> <center> TEXT WITH BACKGROUND COLOR </div>"
   ]
  },
  {
   "cell_type": "markdown",
   "id": "953e7257-2f45-4e80-b279-98e1e40f6f72",
   "metadata": {},
   "source": [
    "***"
   ]
  },
  {
   "cell_type": "code",
   "execution_count": null,
   "id": "3a5df145-b426-4968-a92d-85ba12595e7d",
   "metadata": {},
   "outputs": [],
   "source": [
    "Różne rodzaje tła\n",
    "#Blue Background\n",
    "<div class=\"alert alert-info\"> Example text highlighted in blue background </div>\n",
    "#Green Background\n",
    "<div class=\"alert alert-success\">Example text highlighted in green background.</div>\n",
    "#Yellow Background\n",
    "<div class=\"alert alert-warning\">Example text highlighted in yellow background.</div>\n",
    "#Red Background\n",
    "<div class=\"alert alert-danger\">Example text highlighted in red background.</div>"
   ]
  },
  {
   "cell_type": "markdown",
   "id": "8ced318d-7d23-4bcb-8229-65c7a8c8556d",
   "metadata": {},
   "source": [
    "#Blue Background\n",
    "<div class=\"alert alert-info\"> Example text highlighted in blue background </div>\n",
    "#Green Background\n",
    "<div class=\"alert alert-success\">Example text highlighted in green background.</div>\n",
    "#Yellow Background\n",
    "<div class=\"alert alert-warning\">Example text highlighted in yellow background.</div>\n",
    "#Red Background\n",
    "<div class=\"alert alert-danger\">Example text highlighted in red background.</div>"
   ]
  },
  {
   "cell_type": "markdown",
   "id": "fd63851f-dfa7-45a1-ac44-0df1ad584b65",
   "metadata": {},
   "source": [
    "***"
   ]
  },
  {
   "cell_type": "code",
   "execution_count": null,
   "id": "41efda54-211a-4843-bb7a-e125937b0511",
   "metadata": {},
   "outputs": [],
   "source": [
    "Bullety oraz inne [Link](https://coolsymbol.com/)\n",
    "&#10148; Bullet point one</br>\n",
    "&#10143; Bullet point two</br>\n",
    "&#10147; Bullet point three</br>\n",
    "&#10145; Bullet point four</br>\n",
    "&#10144; Bullet point five</br>\n",
    "&#10142; Bullet point six</br>\n",
    "&#10141; Bullet point seven</br>\n",
    "&#10140; Bullet point eight</br>"
   ]
  },
  {
   "cell_type": "markdown",
   "id": "54afe633-485a-4950-95f0-998e109f1558",
   "metadata": {},
   "source": [
    "[Link do bulletów](https://coolsymbol.com/)  \n",
    "&#10148; Bullet point one</br>\n",
    "&#10143; Bullet point two</br>\n",
    "&#10147; Bullet point three</br>\n",
    "&#10145; Bullet point four</br>\n",
    "&#10144; Bullet point five</br>\n",
    "&#10142; Bullet point six</br>\n",
    "&#10141; Bullet point seven</br>\n",
    "&#10140; Bullet point eight</br>"
   ]
  },
  {
   "cell_type": "markdown",
   "id": "878420a2-ac0f-4fbc-aa94-f94255cb2859",
   "metadata": {},
   "source": [
    "***"
   ]
  },
  {
   "cell_type": "code",
   "execution_count": null,
   "id": "06c385b9-1e7e-4f0e-b319-c8d04a6312f5",
   "metadata": {},
   "outputs": [],
   "source": [
    "$ symbol matematyczny $\n",
    "$$\\sqrt{k}$$  \n",
    "$\\sqrt{k}$\n",
    "Więcej pod [Link](https://github.blog/2022-05-19-math-support-in-markdown/)"
   ]
  },
  {
   "cell_type": "markdown",
   "id": "6923f857-0024-40ad-be13-0b49bc0e4b3a",
   "metadata": {},
   "source": [
    "[Link do formuł](https://github.blog/2022-05-19-math-support-in-markdown/)\n",
    "$$\\sqrt{k}$$  \n",
    "$\\sqrt{k}$"
   ]
  },
  {
   "cell_type": "markdown",
   "id": "29355693-dd01-4abd-b006-3ead81815a84",
   "metadata": {},
   "source": [
    "***"
   ]
  },
  {
   "cell_type": "code",
   "execution_count": null,
   "id": "3d760c82-4807-48bf-8c03-3d277006683c",
   "metadata": {},
   "outputs": [],
   "source": [
    "Wklejanie obrazków \n",
    "<img src=\"minst sample.png\" alt=\"Tekst opisowy\" title=\"tytuł\" />"
   ]
  },
  {
   "cell_type": "markdown",
   "id": "45438a17-a75f-4c59-8296-e7bdd4500496",
   "metadata": {},
   "source": [
    "<img src=\"minst sample.png\" alt=\"Tekst opisowy\" title=\"tytuł\" />"
   ]
  },
  {
   "cell_type": "markdown",
   "id": "7b90cf51-70b5-41bf-9ea3-4c0290da36d9",
   "metadata": {},
   "source": [
    "# Renderowanie wyświetleń funkcji Print Pythona"
   ]
  },
  {
   "cell_type": "markdown",
   "id": "66f36a38-f1b6-4f2e-a1ba-be8c742cc322",
   "metadata": {},
   "source": [
    "Poza renderowaniem komentarzy możemy również renderować wyświetlaną przez funkcję print wynik. Robimy to poprzez dodanie elementu \\033 do wywołania. Np. dla wyboldowania: "
   ]
  },
  {
   "cell_type": "code",
   "execution_count": 16,
   "id": "d590612b-02ba-4221-ab06-7a804702f12a",
   "metadata": {},
   "outputs": [
    {
     "name": "stdout",
     "output_type": "stream",
     "text": [
      "\u001b[1;3m This is bold \u001b[0m\n",
      "To już nie jest bold\n"
     ]
    }
   ],
   "source": [
    "print('\\033[1;3m This is bold \\033[0m')\n",
    "print('To już nie jest bold')"
   ]
  },
  {
   "cell_type": "markdown",
   "id": "b8d27f4d-de11-4be6-a42b-3d4db564a646",
   "metadata": {},
   "source": [
    "Składnia jest opisana poniższym rysunkiem:\n",
    "\n",
    "<img src=\"rend.png\" alt=\"Tekst opisowy\" title=\"tytuł\" />\n",
    "\n",
    "Należy zauważyć, że zarówno początek jak i koniec tagu powinien zawierać element \\033. Inne opcje:"
   ]
  },
  {
   "cell_type": "code",
   "execution_count": 17,
   "id": "6285b34c-9a3f-40c5-b28e-da238de62448",
   "metadata": {},
   "outputs": [
    {
     "name": "stdout",
     "output_type": "stream",
     "text": [
      "\u001b[31;3m This is red\u001b[0m\n",
      "\u001b[32;3m This is green\u001b[0m\n",
      "\u001b[33;3m This is yellow\u001b[0m\n",
      "\u001b[34;3m This is blue\u001b[0m\n",
      "\u001b[35;3m This is pink\u001b[0m\n",
      "\u001b[36;3m This is skyblue\u001b[0m\n",
      "\u001b[37;3m This is grey\u001b[0m\n"
     ]
    }
   ],
   "source": [
    "print('\\033[31;3m This is red\\033[0m')\n",
    "print('\\033[32;3m This is green\\033[0m')\n",
    "print('\\033[33;3m This is yellow\\033[0m')\n",
    "print('\\033[34;3m This is blue\\033[0m')\n",
    "print('\\033[35;3m This is pink\\033[0m')\n",
    "print('\\033[36;3m This is skyblue\\033[0m')\n",
    "print('\\033[37;3m This is grey\\033[0m')"
   ]
  },
  {
   "cell_type": "code",
   "execution_count": 18,
   "id": "c96e2290-67a8-467a-87ce-a9af5c916742",
   "metadata": {},
   "outputs": [
    {
     "name": "stdout",
     "output_type": "stream",
     "text": [
      "\u001b[1;31m This is bold red \u001b[0m\n",
      "\u001b[1;32m This is bold green\u001b[0m\n",
      "\u001b[1;33m This is bold yellow\u001b[0m\n",
      "\u001b[1;34m This is bold blue\u001b[0m\n",
      "\u001b[1;35m This is bold purple\u001b[0m\n",
      "\u001b[1;36m This is bold teal\u001b[0m\n",
      "\u001b[1;37m This is bold grey\u001b[0m\n"
     ]
    }
   ],
   "source": [
    "print('\\033[1;31m This is bold red \\033[0m')\n",
    "print('\\033[1;32m This is bold green\\033[0m')\n",
    "print('\\033[1;33m This is bold yellow\\033[0m')\n",
    "print('\\033[1;34m This is bold blue\\033[0m')\n",
    "print('\\033[1;35m This is bold purple\\033[0m')\n",
    "print('\\033[1;36m This is bold teal\\033[0m')\n",
    "print('\\033[1;37m This is bold grey\\033[0m')"
   ]
  },
  {
   "cell_type": "code",
   "execution_count": 19,
   "id": "cfe7b968-2c6f-4aee-b55b-30c484b1cc3e",
   "metadata": {},
   "outputs": [
    {
     "name": "stdout",
     "output_type": "stream",
     "text": [
      "\u001b[1;40mBlack background - Bold text\u001b[0m\n",
      "\u001b[1;41mRed background - Bold text\u001b[0m\n",
      "\u001b[1;42mGreen background - Bold text\u001b[0m\n",
      "\u001b[1;43mYellow background - Bold text\u001b[0m\n",
      "\u001b[1;44mBlue background - Bold text\u001b[0m\n",
      "\u001b[1;45mPink background - Bold text\u001b[0m\n",
      "\u001b[1;46mLight Blue background - Bold text\u001b[0m\n",
      "\u001b[1;47mLight Grey background - Bold text\u001b[0m\n"
     ]
    }
   ],
   "source": [
    "print('\\033[1;40mBlack background - Bold text\\033[0m')\n",
    "print('\\033[1;41mRed background - Bold text\\033[0m')\n",
    "print('\\033[1;42mGreen background - Bold text\\033[0m')\n",
    "print('\\033[1;43mYellow background - Bold text\\033[0m')\n",
    "print('\\033[1;44mBlue background - Bold text\\033[0m')\n",
    "print('\\033[1;45mPink background - Bold text\\033[0m')\n",
    "print('\\033[1;46mLight Blue background - Bold text\\033[0m')\n",
    "print('\\033[1;47mLight Grey background - Bold text\\033[0m')"
   ]
  }
 ],
 "metadata": {
  "kernelspec": {
   "display_name": "Python 3 (ipykernel)",
   "language": "python",
   "name": "python3"
  },
  "language_info": {
   "codemirror_mode": {
    "name": "ipython",
    "version": 3
   },
   "file_extension": ".py",
   "mimetype": "text/x-python",
   "name": "python",
   "nbconvert_exporter": "python",
   "pygments_lexer": "ipython3",
   "version": "3.9.7"
  }
 },
 "nbformat": 4,
 "nbformat_minor": 5
}
